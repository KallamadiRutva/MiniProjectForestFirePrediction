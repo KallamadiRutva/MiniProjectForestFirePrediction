{
 "cells": [
  {
   "cell_type": "code",
   "execution_count": 1,
   "metadata": {
    "id": "UA_tdj7a0bkU"
   },
   "outputs": [],
   "source": [
    "import numpy as np\n",
    "import pandas as pd\n",
    "from sklearn.preprocessing import LabelEncoder\n",
    "from sklearn.feature_selection import RFE"
   ]
  },
  {
   "cell_type": "code",
   "execution_count": 2,
   "metadata": {
    "id": "Bw0ExwUI0bkZ"
   },
   "outputs": [],
   "source": [
    "from sklearn .feature_selection import RFE\n",
    "import matplotlib.pyplot as plt"
   ]
  },
  {
   "cell_type": "code",
   "execution_count": 3,
   "metadata": {
    "id": "NC3c_uDr0bkb"
   },
   "outputs": [],
   "source": [
    "from sklearn.metrics import explained_variance_score\n",
    "from sklearn.metrics import mean_absolute_error"
   ]
  },
  {
   "cell_type": "code",
   "execution_count": 4,
   "metadata": {
    "id": "G4Yk8LQT0bkd"
   },
   "outputs": [],
   "source": [
    "dataset = pd.read_csv(\"forestfires.csv\")"
   ]
  },
  {
   "cell_type": "code",
   "execution_count": 5,
   "metadata": {
    "colab": {
     "base_uri": "https://localhost:8080/"
    },
    "executionInfo": {
     "elapsed": 878,
     "status": "ok",
     "timestamp": 1604309724438,
     "user": {
      "displayName": "Soumya Vemuri",
      "photoUrl": "https://lh3.googleusercontent.com/a-/AOh14Gg-XYehAtF8lWq2E2bbuoVl7RX2IrkhDVkqNQYImA=s64",
      "userId": "03544337115184237692"
     },
     "user_tz": -330
    },
    "id": "Fkpp2QkuRyQf",
    "outputId": "ecd3caa2-d608-46b3-a374-b9f0bd345767"
   },
   "outputs": [
    {
     "name": "stdout",
     "output_type": "stream",
     "text": [
      "     X  Y month  day    DMC     DC   ISI  temp  RH  wind   area\n",
      "0    7  5   mar  fri   26.2   94.3   5.1   8.2  51   6.7   0.00\n",
      "1    7  4   oct  tue   35.4  669.1   6.7  18.0  33   0.9   0.00\n",
      "2    7  4   oct  sat   43.7  686.9   6.7  14.6  33   1.3   0.00\n",
      "3    8  6   mar  fri   33.3   77.5   9.0   8.3  97   4.0   0.00\n",
      "4    8  6   mar  sun   51.3  102.2   9.6  11.4  99   1.8   0.00\n",
      "..  .. ..   ...  ...    ...    ...   ...   ...  ..   ...    ...\n",
      "512  4  3   aug  sun   56.7  665.6   1.9  27.8  32   2.7   6.44\n",
      "513  2  4   aug  sun   56.7  665.6   1.9  21.9  71   5.8  54.29\n",
      "514  7  4   aug  sun   56.7  665.6   1.9  21.2  70   6.7  11.16\n",
      "515  1  4   aug  sat  146.0  614.7  11.3  25.6  42   4.0   0.00\n",
      "516  6  3   nov  tue    3.0  106.7   1.1  11.8  31   4.5   0.00\n",
      "\n",
      "[517 rows x 11 columns]\n"
     ]
    }
   ],
   "source": [
    "print(dataset)"
   ]
  },
  {
   "cell_type": "code",
   "execution_count": 6,
   "metadata": {
    "id": "4Tiw5Rus0bkf"
   },
   "outputs": [],
   "source": [
    "x2 =  dataset.iloc[:,0:10].values\n",
    "y2 =  dataset.iloc[:,:10].values"
   ]
  },
  {
   "cell_type": "code",
   "execution_count": 7,
   "metadata": {
    "colab": {
     "base_uri": "https://localhost:8080/"
    },
    "executionInfo": {
     "elapsed": 843,
     "status": "ok",
     "timestamp": 1604309727878,
     "user": {
      "displayName": "Soumya Vemuri",
      "photoUrl": "https://lh3.googleusercontent.com/a-/AOh14Gg-XYehAtF8lWq2E2bbuoVl7RX2IrkhDVkqNQYImA=s64",
      "userId": "03544337115184237692"
     },
     "user_tz": -330
    },
    "id": "uN5UGfYW0zTK",
    "outputId": "90467c92-7d86-48e2-ab58-b51afcae953d"
   },
   "outputs": [
    {
     "name": "stdout",
     "output_type": "stream",
     "text": [
      "5170 5170\n"
     ]
    }
   ],
   "source": [
    "print(x2.size,y2.size)"
   ]
  },
  {
   "cell_type": "code",
   "execution_count": 8,
   "metadata": {
    "colab": {
     "base_uri": "https://localhost:8080/",
     "height": 295
    },
    "executionInfo": {
     "elapsed": 898,
     "status": "ok",
     "timestamp": 1604309729434,
     "user": {
      "displayName": "Soumya Vemuri",
      "photoUrl": "https://lh3.googleusercontent.com/a-/AOh14Gg-XYehAtF8lWq2E2bbuoVl7RX2IrkhDVkqNQYImA=s64",
      "userId": "03544337115184237692"
     },
     "user_tz": -330
    },
    "id": "qMszKCSH0bkh",
    "outputId": "ff6a4927-bae4-4fe3-ad5f-cfb7125b7418"
   },
   "outputs": [
    {
     "data": {
      "image/png": "[encoded data removed]",
      "text/plain": [
       "<Figure size 432x288 with 1 Axes>"
      ]
     },
     "metadata": {
      "needs_background": "light"
     },
     "output_type": "display_data"
    }
   ],
   "source": [
    "arr = ['X','Y','month','day','DMC','DC','ISI','temp','RH','wind']\n",
    "for i in range(10):\n",
    "    if(i==2 or i==3):\n",
    "        continue\n",
    "    else:\n",
    "        x1=x2[:,i]\n",
    "        y1=y2[:,i]\n",
    "        plt.scatter(x1,y1,color='blue')\n",
    "        plt.xlabel(arr[i])\n",
    "        plt.ylabel('Area affected in (HA)')\n",
    "        plt.title('Support Vector Regression')\n",
    "plt.show()"
   ]
  },
  {
   "cell_type": "code",
   "execution_count": 9,
   "metadata": {
    "colab": {
     "base_uri": "https://localhost:8080/",
     "height": 449
    },
    "executionInfo": {
     "elapsed": 1972,
     "status": "ok",
     "timestamp": 1604309732396,
     "user": {
      "displayName": "Soumya Vemuri",
      "photoUrl": "https://lh3.googleusercontent.com/a-/AOh14Gg-XYehAtF8lWq2E2bbuoVl7RX2IrkhDVkqNQYImA=s64",
      "userId": "03544337115184237692"
     },
     "user_tz": -330
    },
    "id": "6ssRLdA60bkl",
    "outputId": "828c65d8-8d46-4a22-adaa-d39bff79bd5a"
   },
   "outputs": [
    {
     "data": {
      "text/plain": [
       "array([[<matplotlib.axes._subplots.AxesSubplot object at 0x000001EA04E66E20>,\n",
       "        <matplotlib.axes._subplots.AxesSubplot object at 0x000001EA04EE3490>,\n",
       "        <matplotlib.axes._subplots.AxesSubplot object at 0x000001EA04F0F8E0>],\n",
       "       [<matplotlib.axes._subplots.AxesSubplot object at 0x000001EA04F3CD30>,\n",
       "        <matplotlib.axes._subplots.AxesSubplot object at 0x000001EA04F761C0>,\n",
       "        <matplotlib.axes._subplots.AxesSubplot object at 0x000001EA04FA1580>],\n",
       "       [<matplotlib.axes._subplots.AxesSubplot object at 0x000001EA04FA1670>,\n",
       "        <matplotlib.axes._subplots.AxesSubplot object at 0x000001EA04FCDB50>,\n",
       "        <matplotlib.axes._subplots.AxesSubplot object at 0x000001EA050343A0>]],\n",
       "      dtype=object)"
      ]
     },
     "execution_count": 9,
     "metadata": {},
     "output_type": "execute_result"
    },
    {
     "data": {
      "image/png": "[encoded data removed]",
      "text/plain": [
       "<Figure size 432x288 with 9 Axes>"
      ]
     },
     "metadata": {
      "needs_background": "light"
     },
     "output_type": "display_data"
    }
   ],
   "source": [
    "dataset.hist()"
   ]
  },
  {
   "cell_type": "code",
   "execution_count": 10,
   "metadata": {
    "colab": {
     "base_uri": "https://localhost:8080/",
     "height": 296
    },
    "executionInfo": {
     "elapsed": 2043,
     "status": "ok",
     "timestamp": 1604309734965,
     "user": {
      "displayName": "Soumya Vemuri",
      "photoUrl": "https://lh3.googleusercontent.com/a-/AOh14Gg-XYehAtF8lWq2E2bbuoVl7RX2IrkhDVkqNQYImA=s64",
      "userId": "03544337115184237692"
     },
     "user_tz": -330
    },
    "id": "1jPGZL6Q0bko",
    "outputId": "3b6ec7a0-31dc-489d-c493-4e5e7103c857"
   },
   "outputs": [
    {
     "data": {
      "text/plain": [
       "Text(0, 0.5, 'AREA AFFECTED IN (HA)')"
      ]
     },
     "execution_count": 10,
     "metadata": {},
     "output_type": "execute_result"
    },
    {
     "data": {
      "image/png": "[encoded data removed]",
      "text/plain": [
       "<Figure size 432x288 with 1 Axes>"
      ]
     },
     "metadata": {
      "needs_background": "light"
     },
     "output_type": "display_data"
    }
   ],
   "source": [
    "dataset1=pd.read_csv(\"forestfires.csv\")\n",
    "x1 = dataset1.iloc[:,2]\n",
    "y1=dataset1.iloc[:,10].values\n",
    "x2=dataset1.iloc[:,3]\n",
    "plt.bar(x1,y1)\n",
    "plt.xlabel('MONTHS')\n",
    "plt.ylabel('AREA AFFECTED IN (HA)')"
   ]
  },
  {
   "cell_type": "code",
   "execution_count": 11,
   "metadata": {
    "colab": {
     "base_uri": "https://localhost:8080/",
     "height": 296
    },
    "executionInfo": {
     "elapsed": 1841,
     "status": "ok",
     "timestamp": 1604309737393,
     "user": {
      "displayName": "Soumya Vemuri",
      "photoUrl": "https://lh3.googleusercontent.com/a-/AOh14Gg-XYehAtF8lWq2E2bbuoVl7RX2IrkhDVkqNQYImA=s64",
      "userId": "03544337115184237692"
     },
     "user_tz": -330
    },
    "id": "89pMzkCY0bkq",
    "outputId": "e16b6fa2-0b5f-4a03-a946-f34d84d2face"
   },
   "outputs": [
    {
     "data": {
      "text/plain": [
       "Text(0, 0.5, 'AREA AFFECTED IN (HA)')"
      ]
     },
     "execution_count": 11,
     "metadata": {},
     "output_type": "execute_result"
    },
    {
     "data": {
      "image/png": "[encoded data removed]",
      "text/plain": [
       "<Figure size 432x288 with 1 Axes>"
      ]
     },
     "metadata": {
      "needs_background": "light"
     },
     "output_type": "display_data"
    }
   ],
   "source": [
    "plt.bar(x2,y1)\n",
    "plt.xlabel('DAYS')\n",
    "plt.ylabel('AREA AFFECTED IN (HA)')"
   ]
  },
  {
   "cell_type": "code",
   "execution_count": 12,
   "metadata": {
    "colab": {
     "base_uri": "https://localhost:8080/"
    },
    "executionInfo": {
     "elapsed": 1024,
     "status": "ok",
     "timestamp": 1604309738765,
     "user": {
      "displayName": "Soumya Vemuri",
      "photoUrl": "https://lh3.googleusercontent.com/a-/AOh14Gg-XYehAtF8lWq2E2bbuoVl7RX2IrkhDVkqNQYImA=s64",
      "userId": "03544337115184237692"
     },
     "user_tz": -330
    },
    "id": "8t8LPeXR0bkt",
    "outputId": "1ce2ac87-5188-46ed-e565-729040bb427a"
   },
   "outputs": [
    {
     "data": {
      "text/plain": [
       "X        False\n",
       "Y        False\n",
       "month    False\n",
       "day      False\n",
       "DMC      False\n",
       "DC       False\n",
       "ISI      False\n",
       "temp     False\n",
       "RH       False\n",
       "wind     False\n",
       "area     False\n",
       "dtype: bool"
      ]
     },
     "execution_count": 12,
     "metadata": {},
     "output_type": "execute_result"
    }
   ],
   "source": [
    "le = LabelEncoder()\n",
    "\n",
    "dataset['month'] = le.fit_transform(dataset['month'])\n",
    "dataset['day'] = le.fit_transform(dataset['day'])\n",
    "dataset.isnull().any()"
   ]
  },
  {
   "cell_type": "code",
   "execution_count": 13,
   "metadata": {
    "colab": {
     "base_uri": "https://localhost:8080/",
     "height": 309
    },
    "executionInfo": {
     "elapsed": 2296,
     "status": "ok",
     "timestamp": 1604309744383,
     "user": {
      "displayName": "Soumya Vemuri",
      "photoUrl": "https://lh3.googleusercontent.com/a-/AOh14Gg-XYehAtF8lWq2E2bbuoVl7RX2IrkhDVkqNQYImA=s64",
      "userId": "03544337115184237692"
     },
     "user_tz": -330
    },
    "id": "gf-W-Sw-0bkv",
    "outputId": "309f48a0-406a-4222-8580-dbf8e46cf823"
   },
   "outputs": [
    {
     "data": {
      "text/plain": [
       "<matplotlib.axes._subplots.AxesSubplot at 0x1ea05f44430>"
      ]
     },
     "execution_count": 13,
     "metadata": {},
     "output_type": "execute_result"
    },
    {
     "data": {
      "image/png": "[encoded data removed]",
      "text/plain": [
       "<Figure size 432x288 with 2 Axes>"
      ]
     },
     "metadata": {
      "needs_background": "light"
     },
     "output_type": "display_data"
    }
   ],
   "source": [
    "import seaborn as sns\n",
    "sns.heatmap(dataset.corr(),annot = True)"
   ]
  },
  {
   "cell_type": "code",
   "execution_count": 14,
   "metadata": {
    "colab": {
     "base_uri": "https://localhost:8080/",
     "height": 402
    },
    "executionInfo": {
     "elapsed": 859,
     "status": "ok",
     "timestamp": 1604309745844,
     "user": {
      "displayName": "Soumya Vemuri",
      "photoUrl": "https://lh3.googleusercontent.com/a-/AOh14Gg-XYehAtF8lWq2E2bbuoVl7RX2IrkhDVkqNQYImA=s64",
      "userId": "03544337115184237692"
     },
     "user_tz": -330
    },
    "id": "PSxr75n02EYH",
    "outputId": "b1de6ca7-980b-4592-b3a9-deb067772d0b"
   },
   "outputs": [
    {
     "data": {
      "text/html": [
       "<div>\n",
       "<style scoped>\n",
       "    .dataframe tbody tr th:only-of-type {\n",
       "        vertical-align: middle;\n",
       "    }\n",
       "\n",
       "    .dataframe tbody tr th {\n",
       "        vertical-align: top;\n",
       "    }\n",
       "\n",
       "    .dataframe thead th {\n",
       "        text-align: right;\n",
       "    }\n",
       "</style>\n",
       "<table border=\"1\" class=\"dataframe\">\n",
       "  <thead>\n",
       "    <tr style=\"text-align: right;\">\n",
       "      <th></th>\n",
       "      <th>X</th>\n",
       "      <th>Y</th>\n",
       "      <th>month</th>\n",
       "      <th>day</th>\n",
       "      <th>DMC</th>\n",
       "      <th>DC</th>\n",
       "      <th>ISI</th>\n",
       "      <th>temp</th>\n",
       "      <th>RH</th>\n",
       "      <th>wind</th>\n",
       "      <th>area</th>\n",
       "    </tr>\n",
       "  </thead>\n",
       "  <tbody>\n",
       "    <tr>\n",
       "      <th>0</th>\n",
       "      <td>7</td>\n",
       "      <td>5</td>\n",
       "      <td>8</td>\n",
       "      <td>0</td>\n",
       "      <td>26.2</td>\n",
       "      <td>94.3</td>\n",
       "      <td>5.1</td>\n",
       "      <td>8.2</td>\n",
       "      <td>51</td>\n",
       "      <td>6.7</td>\n",
       "      <td>0.00</td>\n",
       "    </tr>\n",
       "    <tr>\n",
       "      <th>1</th>\n",
       "      <td>7</td>\n",
       "      <td>4</td>\n",
       "      <td>11</td>\n",
       "      <td>5</td>\n",
       "      <td>35.4</td>\n",
       "      <td>669.1</td>\n",
       "      <td>6.7</td>\n",
       "      <td>18.0</td>\n",
       "      <td>33</td>\n",
       "      <td>0.9</td>\n",
       "      <td>0.00</td>\n",
       "    </tr>\n",
       "    <tr>\n",
       "      <th>2</th>\n",
       "      <td>7</td>\n",
       "      <td>4</td>\n",
       "      <td>11</td>\n",
       "      <td>2</td>\n",
       "      <td>43.7</td>\n",
       "      <td>686.9</td>\n",
       "      <td>6.7</td>\n",
       "      <td>14.6</td>\n",
       "      <td>33</td>\n",
       "      <td>1.3</td>\n",
       "      <td>0.00</td>\n",
       "    </tr>\n",
       "    <tr>\n",
       "      <th>3</th>\n",
       "      <td>8</td>\n",
       "      <td>6</td>\n",
       "      <td>8</td>\n",
       "      <td>0</td>\n",
       "      <td>33.3</td>\n",
       "      <td>77.5</td>\n",
       "      <td>9.0</td>\n",
       "      <td>8.3</td>\n",
       "      <td>97</td>\n",
       "      <td>4.0</td>\n",
       "      <td>0.00</td>\n",
       "    </tr>\n",
       "    <tr>\n",
       "      <th>4</th>\n",
       "      <td>8</td>\n",
       "      <td>6</td>\n",
       "      <td>8</td>\n",
       "      <td>3</td>\n",
       "      <td>51.3</td>\n",
       "      <td>102.2</td>\n",
       "      <td>9.6</td>\n",
       "      <td>11.4</td>\n",
       "      <td>99</td>\n",
       "      <td>1.8</td>\n",
       "      <td>0.00</td>\n",
       "    </tr>\n",
       "    <tr>\n",
       "      <th>...</th>\n",
       "      <td>...</td>\n",
       "      <td>...</td>\n",
       "      <td>...</td>\n",
       "      <td>...</td>\n",
       "      <td>...</td>\n",
       "      <td>...</td>\n",
       "      <td>...</td>\n",
       "      <td>...</td>\n",
       "      <td>...</td>\n",
       "      <td>...</td>\n",
       "      <td>...</td>\n",
       "    </tr>\n",
       "    <tr>\n",
       "      <th>512</th>\n",
       "      <td>4</td>\n",
       "      <td>3</td>\n",
       "      <td>2</td>\n",
       "      <td>3</td>\n",
       "      <td>56.7</td>\n",
       "      <td>665.6</td>\n",
       "      <td>1.9</td>\n",
       "      <td>27.8</td>\n",
       "      <td>32</td>\n",
       "      <td>2.7</td>\n",
       "      <td>6.44</td>\n",
       "    </tr>\n",
       "    <tr>\n",
       "      <th>513</th>\n",
       "      <td>2</td>\n",
       "      <td>4</td>\n",
       "      <td>2</td>\n",
       "      <td>3</td>\n",
       "      <td>56.7</td>\n",
       "      <td>665.6</td>\n",
       "      <td>1.9</td>\n",
       "      <td>21.9</td>\n",
       "      <td>71</td>\n",
       "      <td>5.8</td>\n",
       "      <td>54.29</td>\n",
       "    </tr>\n",
       "    <tr>\n",
       "      <th>514</th>\n",
       "      <td>7</td>\n",
       "      <td>4</td>\n",
       "      <td>2</td>\n",
       "      <td>3</td>\n",
       "      <td>56.7</td>\n",
       "      <td>665.6</td>\n",
       "      <td>1.9</td>\n",
       "      <td>21.2</td>\n",
       "      <td>70</td>\n",
       "      <td>6.7</td>\n",
       "      <td>11.16</td>\n",
       "    </tr>\n",
       "    <tr>\n",
       "      <th>515</th>\n",
       "      <td>1</td>\n",
       "      <td>4</td>\n",
       "      <td>2</td>\n",
       "      <td>2</td>\n",
       "      <td>146.0</td>\n",
       "      <td>614.7</td>\n",
       "      <td>11.3</td>\n",
       "      <td>25.6</td>\n",
       "      <td>42</td>\n",
       "      <td>4.0</td>\n",
       "      <td>0.00</td>\n",
       "    </tr>\n",
       "    <tr>\n",
       "      <th>516</th>\n",
       "      <td>6</td>\n",
       "      <td>3</td>\n",
       "      <td>10</td>\n",
       "      <td>5</td>\n",
       "      <td>3.0</td>\n",
       "      <td>106.7</td>\n",
       "      <td>1.1</td>\n",
       "      <td>11.8</td>\n",
       "      <td>31</td>\n",
       "      <td>4.5</td>\n",
       "      <td>0.00</td>\n",
       "    </tr>\n",
       "  </tbody>\n",
       "</table>\n",
       "<p>517 rows × 11 columns</p>\n",
       "</div>"
      ],
      "text/plain": [
       "     X  Y  month  day    DMC     DC   ISI  temp  RH  wind   area\n",
       "0    7  5      8    0   26.2   94.3   5.1   8.2  51   6.7   0.00\n",
       "1    7  4     11    5   35.4  669.1   6.7  18.0  33   0.9   0.00\n",
       "2    7  4     11    2   43.7  686.9   6.7  14.6  33   1.3   0.00\n",
       "3    8  6      8    0   33.3   77.5   9.0   8.3  97   4.0   0.00\n",
       "4    8  6      8    3   51.3  102.2   9.6  11.4  99   1.8   0.00\n",
       "..  .. ..    ...  ...    ...    ...   ...   ...  ..   ...    ...\n",
       "512  4  3      2    3   56.7  665.6   1.9  27.8  32   2.7   6.44\n",
       "513  2  4      2    3   56.7  665.6   1.9  21.9  71   5.8  54.29\n",
       "514  7  4      2    3   56.7  665.6   1.9  21.2  70   6.7  11.16\n",
       "515  1  4      2    2  146.0  614.7  11.3  25.6  42   4.0   0.00\n",
       "516  6  3     10    5    3.0  106.7   1.1  11.8  31   4.5   0.00\n",
       "\n",
       "[517 rows x 11 columns]"
      ]
     },
     "execution_count": 14,
     "metadata": {},
     "output_type": "execute_result"
    }
   ],
   "source": [
    "dataset"
   ]
  },
  {
   "cell_type": "code",
   "execution_count": 15,
   "metadata": {
    "id": "81JcuOzE0bky"
   },
   "outputs": [],
   "source": [
    "x = dataset.iloc[:,0:9].values\n",
    "y = dataset.iloc[:,9:10].values"
   ]
  },
  {
   "cell_type": "code",
   "execution_count": 16,
   "metadata": {
    "colab": {
     "base_uri": "https://localhost:8080/"
    },
    "executionInfo": {
     "elapsed": 614,
     "status": "ok",
     "timestamp": 1604309752302,
     "user": {
      "displayName": "Soumya Vemuri",
      "photoUrl": "https://lh3.googleusercontent.com/a-/AOh14Gg-XYehAtF8lWq2E2bbuoVl7RX2IrkhDVkqNQYImA=s64",
      "userId": "03544337115184237692"
     },
     "user_tz": -330
    },
    "id": "dzP93Qhx2I1N",
    "outputId": "c3ab8be3-eba4-4079-9ee8-d63878189ac8"
   },
   "outputs": [
    {
     "name": "stdout",
     "output_type": "stream",
     "text": [
      "[[ 7.   5.   8.  ...  5.1  8.2 51. ]\n",
      " [ 7.   4.  11.  ...  6.7 18.  33. ]\n",
      " [ 7.   4.  11.  ...  6.7 14.6 33. ]\n",
      " ...\n",
      " [ 7.   4.   2.  ...  1.9 21.2 70. ]\n",
      " [ 1.   4.   2.  ... 11.3 25.6 42. ]\n",
      " [ 6.   3.  10.  ...  1.1 11.8 31. ]]\n"
     ]
    }
   ],
   "source": [
    "print(x)"
   ]
  },
  {
   "cell_type": "code",
   "execution_count": 17,
   "metadata": {
    "colab": {
     "base_uri": "https://localhost:8080/"
    },
    "executionInfo": {
     "elapsed": 811,
     "status": "ok",
     "timestamp": 1604309754574,
     "user": {
      "displayName": "Soumya Vemuri",
      "photoUrl": "https://lh3.googleusercontent.com/a-/AOh14Gg-XYehAtF8lWq2E2bbuoVl7RX2IrkhDVkqNQYImA=s64",
      "userId": "03544337115184237692"
     },
     "user_tz": -330
    },
    "id": "Kb004hT32KUz",
    "outputId": "76e6c651-41a1-42f7-c2ea-0de2822466e2"
   },
   "outputs": [
    {
     "name": "stdout",
     "output_type": "stream",
     "text": [
      "[[6.7]\n",
      " [0.9]\n",
      " [1.3]\n",
      " [4. ]\n",
      " [1.8]\n",
      " [5.4]\n",
      " [3.1]\n",
      " [2.2]\n",
      " [5.4]\n",
      " [4. ]\n",
      " [7.2]\n",
      " [4. ]\n",
      " [6.7]\n",
      " [2.2]\n",
      " [4.5]\n",
      " [5.4]\n",
      " [5.4]\n",
      " [4.9]\n",
      " [4. ]\n",
      " [4.5]\n",
      " [2.7]\n",
      " [2.7]\n",
      " [4.5]\n",
      " [5.8]\n",
      " [5.8]\n",
      " [5.4]\n",
      " [5.8]\n",
      " [1.3]\n",
      " [2.7]\n",
      " [3.6]\n",
      " [3.6]\n",
      " [7.6]\n",
      " [1.8]\n",
      " [3.6]\n",
      " [2.7]\n",
      " [4.5]\n",
      " [4.5]\n",
      " [5.4]\n",
      " [4. ]\n",
      " [2.7]\n",
      " [3.1]\n",
      " [6.7]\n",
      " [5.4]\n",
      " [2.7]\n",
      " [4.9]\n",
      " [4. ]\n",
      " [3.6]\n",
      " [3.1]\n",
      " [1.8]\n",
      " [5.8]\n",
      " [1.3]\n",
      " [2.2]\n",
      " [4.9]\n",
      " [4.9]\n",
      " [3.6]\n",
      " [2.2]\n",
      " [4.9]\n",
      " [2.7]\n",
      " [5.4]\n",
      " [0.9]\n",
      " [5.8]\n",
      " [6.3]\n",
      " [4.9]\n",
      " [2.7]\n",
      " [3.1]\n",
      " [4.5]\n",
      " [4.5]\n",
      " [5.4]\n",
      " [6.3]\n",
      " [4.5]\n",
      " [7.6]\n",
      " [3.6]\n",
      " [6.3]\n",
      " [4.5]\n",
      " [1.3]\n",
      " [3.1]\n",
      " [3.1]\n",
      " [3.1]\n",
      " [2.7]\n",
      " [6.7]\n",
      " [6.3]\n",
      " [2.2]\n",
      " [4.5]\n",
      " [0.9]\n",
      " [3.6]\n",
      " [0.9]\n",
      " [2.2]\n",
      " [2.2]\n",
      " [3.6]\n",
      " [4.9]\n",
      " [5.8]\n",
      " [5.4]\n",
      " [6.3]\n",
      " [4.9]\n",
      " [2.7]\n",
      " [1.3]\n",
      " [1.8]\n",
      " [5.4]\n",
      " [4.5]\n",
      " [5.4]\n",
      " [5.4]\n",
      " [5.4]\n",
      " [4. ]\n",
      " [4.5]\n",
      " [3.1]\n",
      " [6.3]\n",
      " [3.1]\n",
      " [3.1]\n",
      " [3.1]\n",
      " [5.4]\n",
      " [5.8]\n",
      " [4.5]\n",
      " [3.6]\n",
      " [2.7]\n",
      " [7.6]\n",
      " [6.3]\n",
      " [6.3]\n",
      " [4.9]\n",
      " [4. ]\n",
      " [3.1]\n",
      " [2.2]\n",
      " [5.4]\n",
      " [5.4]\n",
      " [3.1]\n",
      " [5.4]\n",
      " [5.4]\n",
      " [2.2]\n",
      " [3.1]\n",
      " [3.6]\n",
      " [0.9]\n",
      " [2.7]\n",
      " [3.1]\n",
      " [4.9]\n",
      " [3.1]\n",
      " [2.7]\n",
      " [5.8]\n",
      " [1.3]\n",
      " [3.1]\n",
      " [2.7]\n",
      " [2.2]\n",
      " [1.8]\n",
      " [4.5]\n",
      " [8.9]\n",
      " [5.4]\n",
      " [5.4]\n",
      " [4. ]\n",
      " [5.4]\n",
      " [3.6]\n",
      " [6.7]\n",
      " [4.5]\n",
      " [5.4]\n",
      " [2.2]\n",
      " [1.8]\n",
      " [4.9]\n",
      " [2.7]\n",
      " [1.3]\n",
      " [2.2]\n",
      " [3.6]\n",
      " [4. ]\n",
      " [5.8]\n",
      " [3.1]\n",
      " [4. ]\n",
      " [8.5]\n",
      " [1.8]\n",
      " [2.2]\n",
      " [4.5]\n",
      " [0.9]\n",
      " [4.5]\n",
      " [9.4]\n",
      " [2.2]\n",
      " [1.8]\n",
      " [4. ]\n",
      " [5.4]\n",
      " [2.2]\n",
      " [1.8]\n",
      " [4.9]\n",
      " [5.8]\n",
      " [2.7]\n",
      " [2.2]\n",
      " [5.4]\n",
      " [6.7]\n",
      " [4. ]\n",
      " [2.2]\n",
      " [4.5]\n",
      " [4.9]\n",
      " [3.1]\n",
      " [5.8]\n",
      " [2.2]\n",
      " [0.9]\n",
      " [4. ]\n",
      " [4. ]\n",
      " [2.7]\n",
      " [4.5]\n",
      " [4. ]\n",
      " [4.5]\n",
      " [5.4]\n",
      " [5.8]\n",
      " [0.9]\n",
      " [6.3]\n",
      " [3.6]\n",
      " [2.2]\n",
      " [3.6]\n",
      " [2.2]\n",
      " [2.7]\n",
      " [4. ]\n",
      " [1.8]\n",
      " [7.2]\n",
      " [2.2]\n",
      " [6.3]\n",
      " [4.9]\n",
      " [3.1]\n",
      " [5.8]\n",
      " [4.9]\n",
      " [5.8]\n",
      " [4.9]\n",
      " [4.9]\n",
      " [1.3]\n",
      " [6.3]\n",
      " [1.3]\n",
      " [3.1]\n",
      " [3.1]\n",
      " [3.6]\n",
      " [5.8]\n",
      " [3.6]\n",
      " [4.5]\n",
      " [4.9]\n",
      " [4. ]\n",
      " [4.5]\n",
      " [3.1]\n",
      " [4. ]\n",
      " [4.5]\n",
      " [3.1]\n",
      " [2.7]\n",
      " [3.1]\n",
      " [3.1]\n",
      " [5.8]\n",
      " [1.8]\n",
      " [2.2]\n",
      " [4. ]\n",
      " [1.8]\n",
      " [2.7]\n",
      " [3.1]\n",
      " [4. ]\n",
      " [7.6]\n",
      " [7.6]\n",
      " [6.3]\n",
      " [5.4]\n",
      " [2.2]\n",
      " [2.7]\n",
      " [0.4]\n",
      " [3.1]\n",
      " [3.1]\n",
      " [3.6]\n",
      " [2.7]\n",
      " [3.1]\n",
      " [4. ]\n",
      " [2.2]\n",
      " [2.7]\n",
      " [0.9]\n",
      " [1.8]\n",
      " [4. ]\n",
      " [7.6]\n",
      " [3.1]\n",
      " [3.6]\n",
      " [3.1]\n",
      " [7.6]\n",
      " [4. ]\n",
      " [3.1]\n",
      " [3.1]\n",
      " [2.7]\n",
      " [3.1]\n",
      " [4.5]\n",
      " [4. ]\n",
      " [8.5]\n",
      " [8. ]\n",
      " [4.9]\n",
      " [8.5]\n",
      " [8.5]\n",
      " [8.5]\n",
      " [8.5]\n",
      " [4.9]\n",
      " [8.5]\n",
      " [4. ]\n",
      " [3.1]\n",
      " [8. ]\n",
      " [6.3]\n",
      " [7.6]\n",
      " [2.7]\n",
      " [1.8]\n",
      " [1.8]\n",
      " [1.8]\n",
      " [0.9]\n",
      " [1.3]\n",
      " [5.4]\n",
      " [3.6]\n",
      " [1.3]\n",
      " [1.8]\n",
      " [2.2]\n",
      " [4.9]\n",
      " [2.7]\n",
      " [4.9]\n",
      " [5.4]\n",
      " [4.5]\n",
      " [4.5]\n",
      " [4.9]\n",
      " [2.2]\n",
      " [5.4]\n",
      " [3.6]\n",
      " [1.8]\n",
      " [2.2]\n",
      " [2.7]\n",
      " [1.8]\n",
      " [6.3]\n",
      " [4.9]\n",
      " [1.8]\n",
      " [2.7]\n",
      " [5.8]\n",
      " [4.9]\n",
      " [2.2]\n",
      " [6.3]\n",
      " [7.2]\n",
      " [4. ]\n",
      " [4. ]\n",
      " [2.7]\n",
      " [1.8]\n",
      " [3.1]\n",
      " [3.1]\n",
      " [2.2]\n",
      " [1.8]\n",
      " [4. ]\n",
      " [3.1]\n",
      " [4.5]\n",
      " [2.2]\n",
      " [3.1]\n",
      " [5.4]\n",
      " [1.8]\n",
      " [2.2]\n",
      " [2.2]\n",
      " [2.2]\n",
      " [1.8]\n",
      " [2.2]\n",
      " [2.2]\n",
      " [1.8]\n",
      " [4.5]\n",
      " [4.9]\n",
      " [3.1]\n",
      " [2.2]\n",
      " [3.6]\n",
      " [4.5]\n",
      " [3.6]\n",
      " [3.6]\n",
      " [6.3]\n",
      " [3.6]\n",
      " [2.7]\n",
      " [2.2]\n",
      " [4.9]\n",
      " [4.9]\n",
      " [3.6]\n",
      " [2.7]\n",
      " [2.2]\n",
      " [2.2]\n",
      " [4. ]\n",
      " [3.1]\n",
      " [2.2]\n",
      " [2.7]\n",
      " [3.1]\n",
      " [5.4]\n",
      " [3.6]\n",
      " [4.9]\n",
      " [7.6]\n",
      " [7.6]\n",
      " [4. ]\n",
      " [0.9]\n",
      " [2.7]\n",
      " [4. ]\n",
      " [4.9]\n",
      " [2.2]\n",
      " [2.2]\n",
      " [5.8]\n",
      " [0.9]\n",
      " [7.2]\n",
      " [2.7]\n",
      " [1.8]\n",
      " [2.7]\n",
      " [4.5]\n",
      " [2.2]\n",
      " [5.4]\n",
      " [5.4]\n",
      " [3.1]\n",
      " [3.1]\n",
      " [6.3]\n",
      " [2.7]\n",
      " [4. ]\n",
      " [7.6]\n",
      " [1.8]\n",
      " [1.8]\n",
      " [4.9]\n",
      " [3.6]\n",
      " [3.1]\n",
      " [4.5]\n",
      " [4.5]\n",
      " [4. ]\n",
      " [4. ]\n",
      " [3.6]\n",
      " [2.2]\n",
      " [2.2]\n",
      " [4.9]\n",
      " [4. ]\n",
      " [3.1]\n",
      " [5.4]\n",
      " [2.7]\n",
      " [9.4]\n",
      " [4.5]\n",
      " [3.6]\n",
      " [4. ]\n",
      " [4.9]\n",
      " [3.1]\n",
      " [5.8]\n",
      " [5.4]\n",
      " [4. ]\n",
      " [4.5]\n",
      " [4.5]\n",
      " [3.6]\n",
      " [4. ]\n",
      " [3.6]\n",
      " [2.2]\n",
      " [2.2]\n",
      " [2.2]\n",
      " [5.8]\n",
      " [4. ]\n",
      " [3.6]\n",
      " [4. ]\n",
      " [6.7]\n",
      " [4.9]\n",
      " [3.6]\n",
      " [1.8]\n",
      " [1.3]\n",
      " [2.7]\n",
      " [4. ]\n",
      " [2.2]\n",
      " [3.6]\n",
      " [1.8]\n",
      " [3.1]\n",
      " [8. ]\n",
      " [3.6]\n",
      " [4.5]\n",
      " [2.2]\n",
      " [8. ]\n",
      " [4. ]\n",
      " [4.9]\n",
      " [5.4]\n",
      " [4.9]\n",
      " [4. ]\n",
      " [3.1]\n",
      " [3.1]\n",
      " [2.7]\n",
      " [2.7]\n",
      " [4. ]\n",
      " [4.9]\n",
      " [8. ]\n",
      " [4.9]\n",
      " [4.9]\n",
      " [7.6]\n",
      " [6.3]\n",
      " [5.4]\n",
      " [0.9]\n",
      " [5.8]\n",
      " [5.4]\n",
      " [3.6]\n",
      " [9.4]\n",
      " [5.8]\n",
      " [4. ]\n",
      " [4. ]\n",
      " [3.1]\n",
      " [2.7]\n",
      " [9.4]\n",
      " [1.3]\n",
      " [4. ]\n",
      " [4.5]\n",
      " [4.9]\n",
      " [4.5]\n",
      " [4.9]\n",
      " [5.8]\n",
      " [5.4]\n",
      " [4. ]\n",
      " [3.6]\n",
      " [6.3]\n",
      " [3.6]\n",
      " [7.6]\n",
      " [1.3]\n",
      " [4. ]\n",
      " [4.5]\n",
      " [2.2]\n",
      " [4.5]\n",
      " [4.9]\n",
      " [2.2]\n",
      " [3.1]\n",
      " [2.2]\n",
      " [2.7]\n",
      " [4.9]\n",
      " [4.9]\n",
      " [4.9]\n",
      " [4.9]\n",
      " [4.9]\n",
      " [4.9]\n",
      " [1.8]\n",
      " [8.5]\n",
      " [3.6]\n",
      " [3.6]\n",
      " [7.6]\n",
      " [5.4]\n",
      " [2.7]\n",
      " [2.7]\n",
      " [5.8]\n",
      " [6.7]\n",
      " [4. ]\n",
      " [4.5]]\n"
     ]
    }
   ],
   "source": [
    "print(y)"
   ]
  },
  {
   "cell_type": "code",
   "execution_count": 18,
   "metadata": {
    "id": "kZLcZVA40bk0"
   },
   "outputs": [],
   "source": [
    "from sklearn.model_selection import train_test_split\n",
    "x_train, x_test,y_train, y_test = train_test_split(x,y,test_size=0.25,random_state = 0)"
   ]
  },
  {
   "cell_type": "code",
   "execution_count": 68,
   "metadata": {
    "executionInfo": {
     "elapsed": 865,
     "status": "ok",
     "timestamp": 1604311019726,
     "user": {
      "displayName": "Soumya Vemuri",
      "photoUrl": "https://lh3.googleusercontent.com/a-/AOh14Gg-XYehAtF8lWq2E2bbuoVl7RX2IrkhDVkqNQYImA=s64",
      "userId": "03544337115184237692"
     },
     "user_tz": -330
    },
    "id": "1-p_Xf6Q0bk5"
   },
   "outputs": [],
   "source": [
    "from sklearn.linear_model import LinearRegression\n",
    "from sklearn.metrics import mean_squared_error\n",
    "from sklearn.model_selection import train_test_split\n",
    "x_train, x_test, y_train, y_test = train_test_split(x,y,test_size=0.3,random_state = 42)\n",
    "reg_all = LinearRegression()\n",
    "reg_all.fit(x_train, y_train)\n",
    "y_pred = reg_all.predict(x_test)"
   ]
  },
  {
   "cell_type": "code",
   "execution_count": 69,
   "metadata": {
    "colab": {
     "base_uri": "https://localhost:8080/"
    },
    "executionInfo": {
     "elapsed": 1104,
     "status": "ok",
     "timestamp": 1604311032991,
     "user": {
      "displayName": "Soumya Vemuri",
      "photoUrl": "https://lh3.googleusercontent.com/a-/AOh14Gg-XYehAtF8lWq2E2bbuoVl7RX2IrkhDVkqNQYImA=s64",
      "userId": "03544337115184237692"
     },
     "user_tz": -330
    },
    "id": "MH4nYgN40blA",
    "outputId": "39a20ed4-81c8-4678-de1c-23ae2b0bd41c"
   },
   "outputs": [
    {
     "name": "stdout",
     "output_type": "stream",
     "text": [
      "R^2: 0.07135461694724488\n",
      "Root Mean Squared Error: [[2.21359436]\n",
      " [2.21359436]\n",
      " [1.34164079]\n",
      " [2.21359436]\n",
      " [2.21359436]\n",
      " [1.76068169]\n",
      " [2.        ]\n",
      " [1.64316767]\n",
      " [1.76068169]\n",
      " [1.4832397 ]\n",
      " [1.8973666 ]\n",
      " [1.64316767]\n",
      " [1.34164079]\n",
      " [1.8973666 ]\n",
      " [2.68328157]\n",
      " [1.34164079]\n",
      " [1.64316767]\n",
      " [1.8973666 ]\n",
      " [2.21359436]\n",
      " [2.32379001]\n",
      " [2.40831892]\n",
      " [2.21359436]\n",
      " [2.91547595]\n",
      " [2.50998008]\n",
      " [2.32379001]\n",
      " [1.76068169]\n",
      " [1.76068169]\n",
      " [1.34164079]\n",
      " [1.34164079]\n",
      " [1.64316767]\n",
      " [2.75680975]\n",
      " [2.12132034]\n",
      " [1.34164079]\n",
      " [2.        ]\n",
      " [2.50998008]\n",
      " [2.12132034]\n",
      " [1.14017543]\n",
      " [2.21359436]\n",
      " [2.12132034]\n",
      " [1.64316767]\n",
      " [1.8973666 ]\n",
      " [2.50998008]\n",
      " [1.14017543]\n",
      " [1.4832397 ]\n",
      " [1.4832397 ]\n",
      " [2.21359436]\n",
      " [1.76068169]\n",
      " [3.06594194]\n",
      " [2.21359436]\n",
      " [2.        ]\n",
      " [2.40831892]\n",
      " [2.        ]\n",
      " [1.8973666 ]\n",
      " [1.64316767]\n",
      " [2.21359436]\n",
      " [2.75680975]\n",
      " [1.14017543]\n",
      " [1.64316767]\n",
      " [1.4832397 ]\n",
      " [1.76068169]\n",
      " [0.63245553]\n",
      " [2.12132034]\n",
      " [2.32379001]\n",
      " [2.12132034]\n",
      " [1.76068169]\n",
      " [1.4832397 ]\n",
      " [1.8973666 ]\n",
      " [1.4832397 ]\n",
      " [2.12132034]\n",
      " [2.58843582]\n",
      " [2.        ]\n",
      " [1.4832397 ]\n",
      " [2.12132034]\n",
      " [1.76068169]\n",
      " [1.34164079]\n",
      " [2.32379001]\n",
      " [2.58843582]\n",
      " [2.        ]\n",
      " [2.        ]\n",
      " [2.        ]\n",
      " [2.40831892]\n",
      " [1.76068169]\n",
      " [1.8973666 ]\n",
      " [2.21359436]\n",
      " [1.64316767]\n",
      " [0.9486833 ]\n",
      " [1.8973666 ]\n",
      " [1.8973666 ]\n",
      " [2.91547595]\n",
      " [1.76068169]\n",
      " [2.21359436]\n",
      " [2.82842712]\n",
      " [1.64316767]\n",
      " [2.21359436]\n",
      " [2.58843582]\n",
      " [1.76068169]\n",
      " [2.12132034]\n",
      " [1.64316767]\n",
      " [1.76068169]\n",
      " [2.12132034]\n",
      " [2.21359436]\n",
      " [2.75680975]\n",
      " [2.40831892]\n",
      " [2.68328157]\n",
      " [2.        ]\n",
      " [1.4832397 ]\n",
      " [2.        ]\n",
      " [1.4832397 ]\n",
      " [1.4832397 ]\n",
      " [1.76068169]\n",
      " [1.8973666 ]\n",
      " [2.21359436]\n",
      " [2.75680975]\n",
      " [1.4832397 ]\n",
      " [1.64316767]\n",
      " [1.8973666 ]\n",
      " [2.21359436]\n",
      " [1.4832397 ]\n",
      " [2.        ]\n",
      " [1.76068169]\n",
      " [2.        ]\n",
      " [2.32379001]\n",
      " [1.76068169]\n",
      " [2.58843582]\n",
      " [1.8973666 ]\n",
      " [2.12132034]\n",
      " [1.34164079]\n",
      " [1.4832397 ]\n",
      " [2.21359436]\n",
      " [2.91547595]\n",
      " [1.4832397 ]\n",
      " [2.        ]\n",
      " [1.64316767]\n",
      " [2.32379001]\n",
      " [2.75680975]\n",
      " [2.32379001]\n",
      " [2.50998008]\n",
      " [2.12132034]\n",
      " [2.        ]\n",
      " [2.82842712]\n",
      " [1.4832397 ]\n",
      " [2.32379001]\n",
      " [2.75680975]\n",
      " [1.64316767]\n",
      " [2.        ]\n",
      " [1.14017543]\n",
      " [1.76068169]\n",
      " [1.64316767]\n",
      " [2.21359436]\n",
      " [2.40831892]\n",
      " [2.21359436]\n",
      " [2.12132034]\n",
      " [2.12132034]\n",
      " [2.75680975]\n",
      " [1.8973666 ]\n",
      " [1.64316767]]\n"
     ]
    }
   ],
   "source": [
    "print(\"R^2: {}\".format(reg_all.score(x_test, y_test)))\n",
    "rmse = np.sqrt(y_test,y_pred)\n",
    "print(\"Root Mean Squared Error: {}\".format(rmse))"
   ]
  },
  {
   "cell_type": "code",
   "execution_count": 70,
   "metadata": {
    "colab": {
     "base_uri": "https://localhost:8080/"
    },
    "executionInfo": {
     "elapsed": 852,
     "status": "ok",
     "timestamp": 1604311043425,
     "user": {
      "displayName": "Soumya Vemuri",
      "photoUrl": "https://lh3.googleusercontent.com/a-/AOh14Gg-XYehAtF8lWq2E2bbuoVl7RX2IrkhDVkqNQYImA=s64",
      "userId": "03544337115184237692"
     },
     "user_tz": -330
    },
    "id": "KRaevzLX0blD",
    "outputId": "ed3b4679-3c7c-41e0-e0b0-c2f6e119e08a"
   },
   "outputs": [
    {
     "data": {
      "text/plain": [
       "0.07135461694724488"
      ]
     },
     "execution_count": 70,
     "metadata": {},
     "output_type": "execute_result"
    }
   ],
   "source": [
    "reg_all.score(x_test,y_test)"
   ]
  },
  {
   "cell_type": "code",
   "execution_count": 71,
   "metadata": {
    "executionInfo": {
     "elapsed": 881,
     "status": "ok",
     "timestamp": 1604311052282,
     "user": {
      "displayName": "Soumya Vemuri",
      "photoUrl": "https://lh3.googleusercontent.com/a-/AOh14Gg-XYehAtF8lWq2E2bbuoVl7RX2IrkhDVkqNQYImA=s64",
      "userId": "03544337115184237692"
     },
     "user_tz": -330
    },
    "id": "Nw5sQ0aG0blF"
   },
   "outputs": [],
   "source": [
    "from sklearn.ensemble import RandomForestRegressor"
   ]
  },
  {
   "cell_type": "code",
   "execution_count": 72,
   "metadata": {
    "executionInfo": {
     "elapsed": 862,
     "status": "ok",
     "timestamp": 1604311064383,
     "user": {
      "displayName": "Soumya Vemuri",
      "photoUrl": "https://lh3.googleusercontent.com/a-/AOh14Gg-XYehAtF8lWq2E2bbuoVl7RX2IrkhDVkqNQYImA=s64",
      "userId": "03544337115184237692"
     },
     "user_tz": -330
    },
    "id": "sizAgxjM0blH"
   },
   "outputs": [],
   "source": [
    "rf= RandomForestRegressor()"
   ]
  },
  {
   "cell_type": "code",
   "execution_count": 73,
   "metadata": {
    "colab": {
     "base_uri": "https://localhost:8080/"
    },
    "executionInfo": {
     "elapsed": 865,
     "status": "ok",
     "timestamp": 1604311071939,
     "user": {
      "displayName": "Soumya Vemuri",
      "photoUrl": "https://lh3.googleusercontent.com/a-/AOh14Gg-XYehAtF8lWq2E2bbuoVl7RX2IrkhDVkqNQYImA=s64",
      "userId": "03544337115184237692"
     },
     "user_tz": -330
    },
    "id": "lBxHaIsX0blI",
    "outputId": "212f32cf-4b87-4e17-fb73-dad5cbe4b29a"
   },
   "outputs": [
    {
     "name": "stderr",
     "output_type": "stream",
     "text": [
      "<ipython-input-73-895403b03771>:1: DataConversionWarning: A column-vector y was passed when a 1d array was expected. Please change the shape of y to (n_samples,), for example using ravel().\n",
      "  rf.fit(x_train,y_train)\n"
     ]
    },
    {
     "data": {
      "text/plain": [
       "RandomForestRegressor()"
      ]
     },
     "execution_count": 73,
     "metadata": {},
     "output_type": "execute_result"
    }
   ],
   "source": [
    "rf.fit(x_train,y_train)"
   ]
  },
  {
   "cell_type": "code",
   "execution_count": 74,
   "metadata": {
    "colab": {
     "base_uri": "https://localhost:8080/"
    },
    "executionInfo": {
     "elapsed": 1046,
     "status": "ok",
     "timestamp": 1604311093231,
     "user": {
      "displayName": "Soumya Vemuri",
      "photoUrl": "https://lh3.googleusercontent.com/a-/AOh14Gg-XYehAtF8lWq2E2bbuoVl7RX2IrkhDVkqNQYImA=s64",
      "userId": "03544337115184237692"
     },
     "user_tz": -330
    },
    "id": "wR5EZsl6ZDjy",
    "outputId": "2e603656-0721-4b93-9a73-eb9570804b3b"
   },
   "outputs": [
    {
     "data": {
      "text/plain": [
       "array([3.343, 4.739, 2.765, 3.987, 3.989, 4.021, 4.668, 2.889, 2.923,\n",
       "       5.046, 3.376, 2.969, 2.227, 3.496, 3.087, 4.818, 6.388, 3.809,\n",
       "       5.843, 5.088, 5.548, 4.341, 7.285, 5.377, 4.124, 3.385, 3.917,\n",
       "       4.466, 2.852, 4.773, 4.784, 3.448, 2.361, 3.231, 5.446, 4.723,\n",
       "       5.404, 3.513, 4.09 , 3.258, 3.232, 5.213, 4.035, 3.35 , 3.374,\n",
       "       6.052, 5.174, 5.347, 5.159, 5.017, 3.787, 3.525, 4.637, 3.122,\n",
       "       4.029, 6.538, 3.955, 2.296, 3.581, 4.307, 3.802, 4.071, 5.324,\n",
       "       3.887, 3.096, 4.852, 3.378, 2.924, 5.32 , 5.791, 4.511, 2.805,\n",
       "       7.205, 4.721, 3.578, 4.601, 3.965, 4.02 , 3.515, 3.434, 5.239,\n",
       "       2.998, 3.147, 5.115, 4.265, 6.161, 5.023, 3.756, 8.089, 4.677,\n",
       "       5.298, 4.859, 2.833, 5.176, 3.91 , 3.211, 4.677, 3.509, 3.164,\n",
       "       4.993, 6.167, 6.421, 5.868, 3.228, 3.086, 2.458, 3.329, 3.748,\n",
       "       3.222, 3.607, 3.122, 5.619, 6.025, 3.163, 3.205, 4.919, 4.215,\n",
       "       2.895, 3.374, 4.212, 4.689, 2.896, 4.136, 3.528, 3.647, 3.91 ,\n",
       "       3.316, 2.243, 3.506, 8.128, 5.593, 3.749, 2.572, 4.373, 5.141,\n",
       "       3.711, 4.762, 3.444, 3.292, 5.15 , 4.855, 2.326, 5.045, 3.168,\n",
       "       3.065, 3.196, 3.696, 4.472, 4.647, 5.351, 3.763, 4.071, 4.805,\n",
       "       4.834, 3.562, 3.406])"
      ]
     },
     "execution_count": 74,
     "metadata": {},
     "output_type": "execute_result"
    }
   ],
   "source": [
    "y_pred = rf.predict(x_test)\n",
    "y_pred"
   ]
  },
  {
   "cell_type": "code",
   "execution_count": 75,
   "metadata": {
    "colab": {
     "base_uri": "https://localhost:8080/",
     "height": 332
    },
    "executionInfo": {
     "elapsed": 787,
     "status": "ok",
     "timestamp": 1604311095766,
     "user": {
      "displayName": "Soumya Vemuri",
      "photoUrl": "https://lh3.googleusercontent.com/a-/AOh14Gg-XYehAtF8lWq2E2bbuoVl7RX2IrkhDVkqNQYImA=s64",
      "userId": "03544337115184237692"
     },
     "user_tz": -330
    },
    "id": "RCGj3lRSZFgK",
    "outputId": "3912b186-45e1-4356-dabd-fc7c7e97d57d"
   },
   "outputs": [
    {
     "data": {
      "text/plain": [
       "(array([ 9., 38., 32., 18., 32., 13.,  7.,  3.,  2.,  2.]),\n",
       " array([2.227 , 2.8171, 3.4072, 3.9973, 4.5874, 5.1775, 5.7676, 6.3577,\n",
       "        6.9478, 7.5379, 8.128 ]),\n",
       " <a list of 10 Patch objects>)"
      ]
     },
     "execution_count": 75,
     "metadata": {},
     "output_type": "execute_result"
    },
    {
     "data": {
      "image/png": "[encoded data removed]",
      "text/plain": [
       "<Figure size 432x288 with 1 Axes>"
      ]
     },
     "metadata": {
      "needs_background": "light"
     },
     "output_type": "display_data"
    }
   ],
   "source": [
    "plt.hist(y_pred)"
   ]
  },
  {
   "cell_type": "code",
   "execution_count": 76,
   "metadata": {
    "colab": {
     "base_uri": "https://localhost:8080/"
    },
    "executionInfo": {
     "elapsed": 887,
     "status": "ok",
     "timestamp": 1604311166095,
     "user": {
      "displayName": "Soumya Vemuri",
      "photoUrl": "https://lh3.googleusercontent.com/a-/AOh14Gg-XYehAtF8lWq2E2bbuoVl7RX2IrkhDVkqNQYImA=s64",
      "userId": "03544337115184237692"
     },
     "user_tz": -330
    },
    "id": "UiFKGTiaZJZn",
    "outputId": "68b924d7-761e-4bc3-9a57-2812e436e82c"
   },
   "outputs": [
    {
     "data": {
      "text/plain": [
       "0.24861374209086173"
      ]
     },
     "execution_count": 76,
     "metadata": {},
     "output_type": "execute_result"
    }
   ],
   "source": [
    "rf.score(x_test,y_test)"
   ]
  },
  {
   "cell_type": "code",
   "execution_count": 77,
   "metadata": {
    "colab": {
     "base_uri": "https://localhost:8080/"
    },
    "executionInfo": {
     "elapsed": 1097,
     "status": "ok",
     "timestamp": 1604311321184,
     "user": {
      "displayName": "Soumya Vemuri",
      "photoUrl": "https://lh3.googleusercontent.com/a-/AOh14Gg-XYehAtF8lWq2E2bbuoVl7RX2IrkhDVkqNQYImA=s64",
      "userId": "03544337115184237692"
     },
     "user_tz": -330
    },
    "id": "OEdPwSl0Zaiz",
    "outputId": "c2853f0c-3b13-4fee-86d3-0005927bbc09"
   },
   "outputs": [
    {
     "data": {
      "text/plain": [
       "array([[1.16795376]])"
      ]
     },
     "execution_count": 77,
     "metadata": {},
     "output_type": "execute_result"
    }
   ],
   "source": [
    "reg_all.predict([[3,4,10,4,65.5,89,7,45,43]])"
   ]
  },
  {
   "cell_type": "code",
   "execution_count": null,
   "metadata": {},
   "outputs": [],
   "source": []
  }
 ],
 "metadata": {
  "colab": {
   "name": "Mini Project SVM.ipynb",
   "provenance": []
  },
  "kernelspec": {
   "display_name": "Python 3",
   "language": "python",
   "name": "python3"
  },
  "language_info": {
   "codemirror_mode": {
    "name": "ipython",
    "version": 3
   },
   "file_extension": ".py",
   "mimetype": "text/x-python",
   "name": "python",
   "nbconvert_exporter": "python",
   "pygments_lexer": "ipython3",
   "version": "3.8.3"
  }
 },
 "nbformat": 4,
 "nbformat_minor": 1
}
